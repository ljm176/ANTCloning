{
 "cells": [
  {
   "cell_type": "code",
   "execution_count": 1,
   "metadata": {},
   "outputs": [
    {
     "name": "stderr",
     "output_type": "stream",
     "text": [
      "C:\\Users\\lajamu\\.opentrons\\deck_calibration.json not found. Loading defaults\n",
      "C:\\Users\\lajamu\\.opentrons\\robot_settings.json not found. Loading defaults\n"
     ]
    },
    {
     "name": "stdout",
     "output_type": "stream",
     "text": [
      "Loading json containers...\n",
      "Json container file load complete, listing database\n",
      "Found 0 containers to add. Starting migration...\n",
      "Database migration complete!\n"
     ]
    }
   ],
   "source": [
    "import opentrons"
   ]
  },
  {
   "cell_type": "code",
   "execution_count": 5,
   "metadata": {},
   "outputs": [
    {
     "name": "stdout",
     "output_type": "stream",
     "text": [
      "Picking up tip from A1 of Opentrons 96 Tip Rack 20 µL on 1\n",
      "Mixing 3 times with a volume of 20.0 ul\n",
      "\tAspirating 20.0 uL from A1 of Corning 96 Well Plate 360 µL Flat on 2 at 7.6 uL/sec\n",
      "\tDispensing 20.0 uL into A1 of Corning 96 Well Plate 360 µL Flat on 2 at 7.6 uL/sec\n",
      "\tAspirating 20.0 uL from A1 of Corning 96 Well Plate 360 µL Flat on 2 at 7.6 uL/sec\n",
      "\tDispensing 20.0 uL into A1 of Corning 96 Well Plate 360 µL Flat on 2 at 7.6 uL/sec\n",
      "\tAspirating 20.0 uL from A1 of Corning 96 Well Plate 360 µL Flat on 2 at 7.6 uL/sec\n",
      "\tDispensing 20.0 uL into A1 of Corning 96 Well Plate 360 µL Flat on 2 at 7.6 uL/sec\n",
      "Aspirating 10.0 uL from A1 of Corning 96 Well Plate 360 µL Flat on 2 at 7.6 uL/sec\n",
      "Dispensing 5.0 uL into A1 of Bio-Rad 96 Well Plate 200 µL PCR on 4 at 1.9 uL/sec\n",
      "Dispensing 5.0 uL into A1 of Bio-Rad 96 Well Plate 200 µL PCR on 5 at 1.9 uL/sec\n",
      "Dropping tip into A1 of Opentrons Fixed Trash on 12\n",
      "Picking up tip from A2 of Opentrons 96 Tip Rack 20 µL on 1\n",
      "Mixing 3 times with a volume of 20.0 ul\n",
      "\tAspirating 20.0 uL from A2 of Corning 96 Well Plate 360 µL Flat on 2 at 7.6 uL/sec\n",
      "\tDispensing 20.0 uL into A2 of Corning 96 Well Plate 360 µL Flat on 2 at 7.6 uL/sec\n",
      "\tAspirating 20.0 uL from A2 of Corning 96 Well Plate 360 µL Flat on 2 at 7.6 uL/sec\n",
      "\tDispensing 20.0 uL into A2 of Corning 96 Well Plate 360 µL Flat on 2 at 7.6 uL/sec\n",
      "\tAspirating 20.0 uL from A2 of Corning 96 Well Plate 360 µL Flat on 2 at 7.6 uL/sec\n",
      "\tDispensing 20.0 uL into A2 of Corning 96 Well Plate 360 µL Flat on 2 at 7.6 uL/sec\n",
      "Aspirating 10.0 uL from A2 of Corning 96 Well Plate 360 µL Flat on 2 at 7.6 uL/sec\n",
      "Dispensing 5.0 uL into A2 of Bio-Rad 96 Well Plate 200 µL PCR on 4 at 1.9 uL/sec\n",
      "Dispensing 5.0 uL into A2 of Bio-Rad 96 Well Plate 200 µL PCR on 5 at 1.9 uL/sec\n",
      "Dropping tip into A1 of Opentrons Fixed Trash on 12\n",
      "Picking up tip from A3 of Opentrons 96 Tip Rack 20 µL on 1\n",
      "Mixing 3 times with a volume of 20.0 ul\n",
      "\tAspirating 20.0 uL from A3 of Corning 96 Well Plate 360 µL Flat on 2 at 7.6 uL/sec\n",
      "\tDispensing 20.0 uL into A3 of Corning 96 Well Plate 360 µL Flat on 2 at 7.6 uL/sec\n",
      "\tAspirating 20.0 uL from A3 of Corning 96 Well Plate 360 µL Flat on 2 at 7.6 uL/sec\n",
      "\tDispensing 20.0 uL into A3 of Corning 96 Well Plate 360 µL Flat on 2 at 7.6 uL/sec\n",
      "\tAspirating 20.0 uL from A3 of Corning 96 Well Plate 360 µL Flat on 2 at 7.6 uL/sec\n",
      "\tDispensing 20.0 uL into A3 of Corning 96 Well Plate 360 µL Flat on 2 at 7.6 uL/sec\n",
      "Aspirating 10.0 uL from A3 of Corning 96 Well Plate 360 µL Flat on 2 at 7.6 uL/sec\n",
      "Dispensing 5.0 uL into A3 of Bio-Rad 96 Well Plate 200 µL PCR on 4 at 1.9 uL/sec\n",
      "Dispensing 5.0 uL into A3 of Bio-Rad 96 Well Plate 200 µL PCR on 5 at 1.9 uL/sec\n",
      "Dropping tip into A1 of Opentrons Fixed Trash on 12\n",
      "Picking up tip from A4 of Opentrons 96 Tip Rack 20 µL on 1\n",
      "Mixing 3 times with a volume of 20.0 ul\n",
      "\tAspirating 20.0 uL from A4 of Corning 96 Well Plate 360 µL Flat on 2 at 7.6 uL/sec\n",
      "\tDispensing 20.0 uL into A4 of Corning 96 Well Plate 360 µL Flat on 2 at 7.6 uL/sec\n",
      "\tAspirating 20.0 uL from A4 of Corning 96 Well Plate 360 µL Flat on 2 at 7.6 uL/sec\n",
      "\tDispensing 20.0 uL into A4 of Corning 96 Well Plate 360 µL Flat on 2 at 7.6 uL/sec\n",
      "\tAspirating 20.0 uL from A4 of Corning 96 Well Plate 360 µL Flat on 2 at 7.6 uL/sec\n",
      "\tDispensing 20.0 uL into A4 of Corning 96 Well Plate 360 µL Flat on 2 at 7.6 uL/sec\n",
      "Aspirating 10.0 uL from A4 of Corning 96 Well Plate 360 µL Flat on 2 at 7.6 uL/sec\n",
      "Dispensing 5.0 uL into A4 of Bio-Rad 96 Well Plate 200 µL PCR on 4 at 1.9 uL/sec\n",
      "Dispensing 5.0 uL into A4 of Bio-Rad 96 Well Plate 200 µL PCR on 5 at 1.9 uL/sec\n",
      "Dropping tip into A1 of Opentrons Fixed Trash on 12\n",
      "Picking up tip from A5 of Opentrons 96 Tip Rack 20 µL on 1\n",
      "Mixing 3 times with a volume of 20.0 ul\n",
      "\tAspirating 20.0 uL from A5 of Corning 96 Well Plate 360 µL Flat on 2 at 7.6 uL/sec\n",
      "\tDispensing 20.0 uL into A5 of Corning 96 Well Plate 360 µL Flat on 2 at 7.6 uL/sec\n",
      "\tAspirating 20.0 uL from A5 of Corning 96 Well Plate 360 µL Flat on 2 at 7.6 uL/sec\n",
      "\tDispensing 20.0 uL into A5 of Corning 96 Well Plate 360 µL Flat on 2 at 7.6 uL/sec\n",
      "\tAspirating 20.0 uL from A5 of Corning 96 Well Plate 360 µL Flat on 2 at 7.6 uL/sec\n",
      "\tDispensing 20.0 uL into A5 of Corning 96 Well Plate 360 µL Flat on 2 at 7.6 uL/sec\n",
      "Aspirating 10.0 uL from A5 of Corning 96 Well Plate 360 µL Flat on 2 at 7.6 uL/sec\n",
      "Dispensing 5.0 uL into A5 of Bio-Rad 96 Well Plate 200 µL PCR on 4 at 1.9 uL/sec\n",
      "Dispensing 5.0 uL into A5 of Bio-Rad 96 Well Plate 200 µL PCR on 5 at 1.9 uL/sec\n",
      "Dropping tip into A1 of Opentrons Fixed Trash on 12\n",
      "Picking up tip from A6 of Opentrons 96 Tip Rack 20 µL on 1\n",
      "Mixing 3 times with a volume of 20.0 ul\n",
      "\tAspirating 20.0 uL from A6 of Corning 96 Well Plate 360 µL Flat on 2 at 7.6 uL/sec\n",
      "\tDispensing 20.0 uL into A6 of Corning 96 Well Plate 360 µL Flat on 2 at 7.6 uL/sec\n",
      "\tAspirating 20.0 uL from A6 of Corning 96 Well Plate 360 µL Flat on 2 at 7.6 uL/sec\n",
      "\tDispensing 20.0 uL into A6 of Corning 96 Well Plate 360 µL Flat on 2 at 7.6 uL/sec\n",
      "\tAspirating 20.0 uL from A6 of Corning 96 Well Plate 360 µL Flat on 2 at 7.6 uL/sec\n",
      "\tDispensing 20.0 uL into A6 of Corning 96 Well Plate 360 µL Flat on 2 at 7.6 uL/sec\n",
      "Aspirating 10.0 uL from A6 of Corning 96 Well Plate 360 µL Flat on 2 at 7.6 uL/sec\n",
      "Dispensing 5.0 uL into A6 of Bio-Rad 96 Well Plate 200 µL PCR on 4 at 1.9 uL/sec\n",
      "Dispensing 5.0 uL into A6 of Bio-Rad 96 Well Plate 200 µL PCR on 5 at 1.9 uL/sec\n",
      "Dropping tip into A1 of Opentrons Fixed Trash on 12\n",
      "Picking up tip from A7 of Opentrons 96 Tip Rack 20 µL on 1\n",
      "Mixing 3 times with a volume of 20.0 ul\n",
      "\tAspirating 20.0 uL from A7 of Corning 96 Well Plate 360 µL Flat on 2 at 7.6 uL/sec\n",
      "\tDispensing 20.0 uL into A7 of Corning 96 Well Plate 360 µL Flat on 2 at 7.6 uL/sec\n",
      "\tAspirating 20.0 uL from A7 of Corning 96 Well Plate 360 µL Flat on 2 at 7.6 uL/sec\n",
      "\tDispensing 20.0 uL into A7 of Corning 96 Well Plate 360 µL Flat on 2 at 7.6 uL/sec\n",
      "\tAspirating 20.0 uL from A7 of Corning 96 Well Plate 360 µL Flat on 2 at 7.6 uL/sec\n",
      "\tDispensing 20.0 uL into A7 of Corning 96 Well Plate 360 µL Flat on 2 at 7.6 uL/sec\n",
      "Aspirating 10.0 uL from A7 of Corning 96 Well Plate 360 µL Flat on 2 at 7.6 uL/sec\n",
      "Dispensing 5.0 uL into A7 of Bio-Rad 96 Well Plate 200 µL PCR on 4 at 1.9 uL/sec\n",
      "Dispensing 5.0 uL into A7 of Bio-Rad 96 Well Plate 200 µL PCR on 5 at 1.9 uL/sec\n",
      "Dropping tip into A1 of Opentrons Fixed Trash on 12\n",
      "Picking up tip from A8 of Opentrons 96 Tip Rack 20 µL on 1\n",
      "Mixing 3 times with a volume of 20.0 ul\n",
      "\tAspirating 20.0 uL from A8 of Corning 96 Well Plate 360 µL Flat on 2 at 7.6 uL/sec\n",
      "\tDispensing 20.0 uL into A8 of Corning 96 Well Plate 360 µL Flat on 2 at 7.6 uL/sec\n",
      "\tAspirating 20.0 uL from A8 of Corning 96 Well Plate 360 µL Flat on 2 at 7.6 uL/sec\n",
      "\tDispensing 20.0 uL into A8 of Corning 96 Well Plate 360 µL Flat on 2 at 7.6 uL/sec\n",
      "\tAspirating 20.0 uL from A8 of Corning 96 Well Plate 360 µL Flat on 2 at 7.6 uL/sec\n",
      "\tDispensing 20.0 uL into A8 of Corning 96 Well Plate 360 µL Flat on 2 at 7.6 uL/sec\n",
      "Aspirating 10.0 uL from A8 of Corning 96 Well Plate 360 µL Flat on 2 at 7.6 uL/sec\n",
      "Dispensing 5.0 uL into A8 of Bio-Rad 96 Well Plate 200 µL PCR on 4 at 1.9 uL/sec\n",
      "Dispensing 5.0 uL into A8 of Bio-Rad 96 Well Plate 200 µL PCR on 5 at 1.9 uL/sec\n",
      "Dropping tip into A1 of Opentrons Fixed Trash on 12\n"
     ]
    },
    {
     "name": "stderr",
     "output_type": "stream",
     "text": [
      "C:\\Users\\lajamu\\.opentrons\\deck_calibration.json not found. Loading defaults\n",
      "C:\\Users\\lajamu\\.opentrons\\robot_settings.json not found. Loading defaults\n"
     ]
    }
   ],
   "source": [
    "!opentrons_simulate Plating_No_Dilution96WP.py"
   ]
  },
  {
   "cell_type": "code",
   "execution_count": 3,
   "metadata": {},
   "outputs": [
    {
     "name": "stdout",
     "output_type": "stream",
     "text": [
      "Loading json containers...\n",
      "Json container file load complete, listing database\n",
      "Found 0 containers to add. Starting migration...\n",
      "Database migration complete!\n",
      "Setting Temperature Module temperature to 37.0 °C (rounded off to nearest integer)\n",
      "Transferring 40.0 from A1 of Opentrons 24 Well Aluminum Block with NEST 1.5 mL Snapcap on 5 to A1 of Opentrons 96 Well Aluminum Block with Generic PCR Strip 200 µL on Temperature Module on 7\n",
      "\tPicking up tip from A1 of Opentrons 96 Tip Rack 300 µL on 2\n",
      "\tAspirating 40.0 uL from A1 of Opentrons 24 Well Aluminum Block with NEST 1.5 mL Snapcap on 5 at 1.0 speed\n",
      "\tDispensing 40.0 uL into A1 of Opentrons 96 Well Aluminum Block with Generic PCR Strip 200 µL on Temperature Module on 7 at 1.0 speed\n",
      "\tDropping tip into A1 of Opentrons Fixed Trash on 12\n",
      "Transferring 40.0 from A1 of Opentrons 24 Well Aluminum Block with NEST 1.5 mL Snapcap on 5 to B1 of Opentrons 96 Well Aluminum Block with Generic PCR Strip 200 µL on Temperature Module on 7\n",
      "\tPicking up tip from B1 of Opentrons 96 Tip Rack 300 µL on 2\n",
      "\tAspirating 40.0 uL from A1 of Opentrons 24 Well Aluminum Block with NEST 1.5 mL Snapcap on 5 at 1.0 speed\n",
      "\tDispensing 40.0 uL into B1 of Opentrons 96 Well Aluminum Block with Generic PCR Strip 200 µL on Temperature Module on 7 at 1.0 speed\n",
      "\tDropping tip into A1 of Opentrons Fixed Trash on 12\n",
      "Transferring 40.0 from A1 of Opentrons 24 Well Aluminum Block with NEST 1.5 mL Snapcap on 5 to C1 of Opentrons 96 Well Aluminum Block with Generic PCR Strip 200 µL on Temperature Module on 7\n",
      "\tPicking up tip from C1 of Opentrons 96 Tip Rack 300 µL on 2\n",
      "\tAspirating 40.0 uL from A1 of Opentrons 24 Well Aluminum Block with NEST 1.5 mL Snapcap on 5 at 1.0 speed\n",
      "\tDispensing 40.0 uL into C1 of Opentrons 96 Well Aluminum Block with Generic PCR Strip 200 µL on Temperature Module on 7 at 1.0 speed\n",
      "\tDropping tip into A1 of Opentrons Fixed Trash on 12\n",
      "Transferring 40.0 from A1 of Opentrons 24 Well Aluminum Block with NEST 1.5 mL Snapcap on 5 to D1 of Opentrons 96 Well Aluminum Block with Generic PCR Strip 200 µL on Temperature Module on 7\n",
      "\tPicking up tip from D1 of Opentrons 96 Tip Rack 300 µL on 2\n",
      "\tAspirating 40.0 uL from A1 of Opentrons 24 Well Aluminum Block with NEST 1.5 mL Snapcap on 5 at 1.0 speed\n",
      "\tDispensing 40.0 uL into D1 of Opentrons 96 Well Aluminum Block with Generic PCR Strip 200 µL on Temperature Module on 7 at 1.0 speed\n",
      "\tDropping tip into A1 of Opentrons Fixed Trash on 12\n",
      "Transferring 40.0 from A1 of Opentrons 24 Well Aluminum Block with NEST 1.5 mL Snapcap on 5 to E1 of Opentrons 96 Well Aluminum Block with Generic PCR Strip 200 µL on Temperature Module on 7\n",
      "\tPicking up tip from E1 of Opentrons 96 Tip Rack 300 µL on 2\n",
      "\tAspirating 40.0 uL from A1 of Opentrons 24 Well Aluminum Block with NEST 1.5 mL Snapcap on 5 at 1.0 speed\n",
      "\tDispensing 40.0 uL into E1 of Opentrons 96 Well Aluminum Block with Generic PCR Strip 200 µL on Temperature Module on 7 at 1.0 speed\n",
      "\tDropping tip into A1 of Opentrons Fixed Trash on 12\n",
      "Transferring 40.0 from A1 of Opentrons 24 Well Aluminum Block with NEST 1.5 mL Snapcap on 5 to F1 of Opentrons 96 Well Aluminum Block with Generic PCR Strip 200 µL on Temperature Module on 7\n",
      "\tPicking up tip from F1 of Opentrons 96 Tip Rack 300 µL on 2\n",
      "\tAspirating 40.0 uL from A1 of Opentrons 24 Well Aluminum Block with NEST 1.5 mL Snapcap on 5 at 1.0 speed\n",
      "\tDispensing 40.0 uL into F1 of Opentrons 96 Well Aluminum Block with Generic PCR Strip 200 µL on Temperature Module on 7 at 1.0 speed\n",
      "\tDropping tip into A1 of Opentrons Fixed Trash on 12\n",
      "Transferring 40.0 from A1 of Opentrons 24 Well Aluminum Block with NEST 1.5 mL Snapcap on 5 to G1 of Opentrons 96 Well Aluminum Block with Generic PCR Strip 200 µL on Temperature Module on 7\n",
      "\tPicking up tip from G1 of Opentrons 96 Tip Rack 300 µL on 2\n",
      "\tAspirating 40.0 uL from A1 of Opentrons 24 Well Aluminum Block with NEST 1.5 mL Snapcap on 5 at 1.0 speed\n",
      "\tDispensing 40.0 uL into G1 of Opentrons 96 Well Aluminum Block with Generic PCR Strip 200 µL on Temperature Module on 7 at 1.0 speed\n",
      "\tDropping tip into A1 of Opentrons Fixed Trash on 12\n",
      "Transferring 40.0 from A1 of Opentrons 24 Well Aluminum Block with NEST 1.5 mL Snapcap on 5 to H1 of Opentrons 96 Well Aluminum Block with Generic PCR Strip 200 µL on Temperature Module on 7\n",
      "\tPicking up tip from H1 of Opentrons 96 Tip Rack 300 µL on 2\n",
      "\tAspirating 40.0 uL from A1 of Opentrons 24 Well Aluminum Block with NEST 1.5 mL Snapcap on 5 at 1.0 speed\n",
      "\tDispensing 40.0 uL into H1 of Opentrons 96 Well Aluminum Block with Generic PCR Strip 200 µL on Temperature Module on 7 at 1.0 speed\n",
      "\tDropping tip into A1 of Opentrons Fixed Trash on 12\n",
      "Transferring 40.0 from A1 of Opentrons 24 Well Aluminum Block with NEST 1.5 mL Snapcap on 5 to A2 of Opentrons 96 Well Aluminum Block with Generic PCR Strip 200 µL on Temperature Module on 7\n",
      "\tPicking up tip from A2 of Opentrons 96 Tip Rack 300 µL on 2\n",
      "\tAspirating 40.0 uL from A1 of Opentrons 24 Well Aluminum Block with NEST 1.5 mL Snapcap on 5 at 1.0 speed\n",
      "\tDispensing 40.0 uL into A2 of Opentrons 96 Well Aluminum Block with Generic PCR Strip 200 µL on Temperature Module on 7 at 1.0 speed\n",
      "\tDropping tip into A1 of Opentrons Fixed Trash on 12\n",
      "Transferring 40.0 from A1 of Opentrons 24 Well Aluminum Block with NEST 1.5 mL Snapcap on 5 to B2 of Opentrons 96 Well Aluminum Block with Generic PCR Strip 200 µL on Temperature Module on 7\n",
      "\tPicking up tip from B2 of Opentrons 96 Tip Rack 300 µL on 2\n",
      "\tAspirating 40.0 uL from A1 of Opentrons 24 Well Aluminum Block with NEST 1.5 mL Snapcap on 5 at 1.0 speed\n",
      "\tDispensing 40.0 uL into B2 of Opentrons 96 Well Aluminum Block with Generic PCR Strip 200 µL on Temperature Module on 7 at 1.0 speed\n",
      "\tDropping tip into A1 of Opentrons Fixed Trash on 12\n",
      "Delaying for 30 minutes and 0 seconds\n",
      "Setting Temperature Module temperature to 4.0 °C (rounded off to nearest integer)\n"
     ]
    },
    {
     "name": "stderr",
     "output_type": "stream",
     "text": [
      "C:\\Users\\lajamu\\.opentrons\\deck_calibration.json not found. Loading defaults\n",
      "C:\\Users\\lajamu\\.opentrons\\robot_settings.json not found. Loading defaults\n",
      "C:\\Users\\lajamu\\.opentrons\\deck_calibration.json not found. Loading defaults\n",
      "C:\\Users\\lajamu\\.opentrons\\robot_settings.json not found. Loading defaults\n"
     ]
    }
   ],
   "source": [
    "!opentrons_simulate \"Step 2_Dilution and Digestion.py\""
   ]
  },
  {
   "cell_type": "code",
   "execution_count": null,
   "metadata": {},
   "outputs": [],
   "source": [
    "!opentrons_simulate \"Step 3_OEPCR.py\""
   ]
  },
  {
   "cell_type": "code",
   "execution_count": null,
   "metadata": {},
   "outputs": [],
   "source": [
    "!opentrons_simulate \"Step 4_Transformation.py\""
   ]
  },
  {
   "cell_type": "code",
   "execution_count": null,
   "metadata": {},
   "outputs": [],
   "source": [
    "!opentrons_simulate \"Step 5_Plating.py\"\""
   ]
  }
 ],
 "metadata": {
  "kernelspec": {
   "display_name": "Python 3",
   "language": "python",
   "name": "python3"
  },
  "language_info": {
   "codemirror_mode": {
    "name": "ipython",
    "version": 3
   },
   "file_extension": ".py",
   "mimetype": "text/x-python",
   "name": "python",
   "nbconvert_exporter": "python",
   "pygments_lexer": "ipython3",
   "version": "3.7.1"
  }
 },
 "nbformat": 4,
 "nbformat_minor": 4
}
