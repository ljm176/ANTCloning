{
 "cells": [
  {
   "cell_type": "code",
   "execution_count": 1,
   "metadata": {},
   "outputs": [
    {
     "name": "stderr",
     "output_type": "stream",
     "text": [
      "C:\\Users\\lajamu\\.opentrons\\deck_calibration.json not found. Loading defaults\n",
      "C:\\Users\\lajamu\\.opentrons\\robot_settings.json not found. Loading defaults\n"
     ]
    },
    {
     "name": "stdout",
     "output_type": "stream",
     "text": [
      "Loading json containers...\n",
      "Json container file load complete, listing database\n",
      "Found 0 containers to add. Starting migration...\n",
      "Database migration complete!\n"
     ]
    }
   ],
   "source": [
    "import opentrons"
   ]
  },
  {
   "cell_type": "code",
   "execution_count": 6,
   "metadata": {},
   "outputs": [
    {
     "name": "stderr",
     "output_type": "stream",
     "text": [
      "C:\\Users\\lajamu\\.opentrons\\deck_calibration.json not found. Loading defaults\n",
      "C:\\Users\\lajamu\\.opentrons\\robot_settings.json not found. Loading defaults\n",
      "Traceback (most recent call last):\n",
      "  File \"c:\\users\\lajamu\\appdata\\local\\continuum\\anaconda3\\lib\\site-packages\\opentrons\\protocols\\execution\\execute_python.py\", line 61, in run_python\n",
      "    exec('run(__context)', new_globs)\n",
      "  File \"<string>\", line 1, in <module>\n",
      "  File \"Plating_No_Dilution96WP.py\", line 60, in run\n",
      "    p20Multi.mix(3, 20, transformation[w])\n",
      "NameError: name 'w' is not defined\n",
      "\n",
      "During handling of the above exception, another exception occurred:\n",
      "\n",
      "Traceback (most recent call last):\n",
      "  File \"c:\\users\\lajamu\\appdata\\local\\continuum\\anaconda3\\lib\\runpy.py\", line 193, in _run_module_as_main\n",
      "    \"__main__\", mod_spec)\n",
      "  File \"c:\\users\\lajamu\\appdata\\local\\continuum\\anaconda3\\lib\\runpy.py\", line 85, in _run_code\n",
      "    exec(code, run_globals)\n",
      "  File \"C:\\Users\\lajamu\\AppData\\Local\\Continuum\\anaconda3\\Scripts\\opentrons_simulate.exe\\__main__.py\", line 7, in <module>\n",
      "  File \"c:\\users\\lajamu\\appdata\\local\\continuum\\anaconda3\\lib\\site-packages\\opentrons\\simulate.py\", line 529, in main\n",
      "    log_level=args.log_level)\n",
      "  File \"c:\\users\\lajamu\\appdata\\local\\continuum\\anaconda3\\lib\\site-packages\\opentrons\\simulate.py\", line 346, in simulate\n",
      "    execute.run_protocol(protocol, context)\n",
      "  File \"c:\\users\\lajamu\\appdata\\local\\continuum\\anaconda3\\lib\\site-packages\\opentrons\\protocols\\execution\\execute.py\", line 25, in run_protocol\n",
      "    run_python(protocol, context)\n",
      "  File \"c:\\users\\lajamu\\appdata\\local\\continuum\\anaconda3\\lib\\site-packages\\opentrons\\protocols\\execution\\execute_python.py\", line 72, in run_python\n",
      "    raise ExceptionInProtocolError(e, tb, str(e), frame.lineno)\n",
      "opentrons.protocols.execution.errors.ExceptionInProtocolError: NameError [line 60]: name 'w' is not defined\n"
     ]
    }
   ],
   "source": [
    "!opentrons_simulate Plating_No_Dilution96WP.py"
   ]
  },
  {
   "cell_type": "code",
   "execution_count": 3,
   "metadata": {},
   "outputs": [
    {
     "name": "stdout",
     "output_type": "stream",
     "text": [
      "Loading json containers...\n",
      "Json container file load complete, listing database\n",
      "Found 0 containers to add. Starting migration...\n",
      "Database migration complete!\n",
      "Setting Temperature Module temperature to 37.0 °C (rounded off to nearest integer)\n",
      "Transferring 40.0 from A1 of Opentrons 24 Well Aluminum Block with NEST 1.5 mL Snapcap on 5 to A1 of Opentrons 96 Well Aluminum Block with Generic PCR Strip 200 µL on Temperature Module on 7\n",
      "\tPicking up tip from A1 of Opentrons 96 Tip Rack 300 µL on 2\n",
      "\tAspirating 40.0 uL from A1 of Opentrons 24 Well Aluminum Block with NEST 1.5 mL Snapcap on 5 at 1.0 speed\n",
      "\tDispensing 40.0 uL into A1 of Opentrons 96 Well Aluminum Block with Generic PCR Strip 200 µL on Temperature Module on 7 at 1.0 speed\n",
      "\tDropping tip into A1 of Opentrons Fixed Trash on 12\n",
      "Transferring 40.0 from A1 of Opentrons 24 Well Aluminum Block with NEST 1.5 mL Snapcap on 5 to B1 of Opentrons 96 Well Aluminum Block with Generic PCR Strip 200 µL on Temperature Module on 7\n",
      "\tPicking up tip from B1 of Opentrons 96 Tip Rack 300 µL on 2\n",
      "\tAspirating 40.0 uL from A1 of Opentrons 24 Well Aluminum Block with NEST 1.5 mL Snapcap on 5 at 1.0 speed\n",
      "\tDispensing 40.0 uL into B1 of Opentrons 96 Well Aluminum Block with Generic PCR Strip 200 µL on Temperature Module on 7 at 1.0 speed\n",
      "\tDropping tip into A1 of Opentrons Fixed Trash on 12\n",
      "Transferring 40.0 from A1 of Opentrons 24 Well Aluminum Block with NEST 1.5 mL Snapcap on 5 to C1 of Opentrons 96 Well Aluminum Block with Generic PCR Strip 200 µL on Temperature Module on 7\n",
      "\tPicking up tip from C1 of Opentrons 96 Tip Rack 300 µL on 2\n",
      "\tAspirating 40.0 uL from A1 of Opentrons 24 Well Aluminum Block with NEST 1.5 mL Snapcap on 5 at 1.0 speed\n",
      "\tDispensing 40.0 uL into C1 of Opentrons 96 Well Aluminum Block with Generic PCR Strip 200 µL on Temperature Module on 7 at 1.0 speed\n",
      "\tDropping tip into A1 of Opentrons Fixed Trash on 12\n",
      "Transferring 40.0 from A1 of Opentrons 24 Well Aluminum Block with NEST 1.5 mL Snapcap on 5 to D1 of Opentrons 96 Well Aluminum Block with Generic PCR Strip 200 µL on Temperature Module on 7\n",
      "\tPicking up tip from D1 of Opentrons 96 Tip Rack 300 µL on 2\n",
      "\tAspirating 40.0 uL from A1 of Opentrons 24 Well Aluminum Block with NEST 1.5 mL Snapcap on 5 at 1.0 speed\n",
      "\tDispensing 40.0 uL into D1 of Opentrons 96 Well Aluminum Block with Generic PCR Strip 200 µL on Temperature Module on 7 at 1.0 speed\n",
      "\tDropping tip into A1 of Opentrons Fixed Trash on 12\n",
      "Transferring 40.0 from A1 of Opentrons 24 Well Aluminum Block with NEST 1.5 mL Snapcap on 5 to E1 of Opentrons 96 Well Aluminum Block with Generic PCR Strip 200 µL on Temperature Module on 7\n",
      "\tPicking up tip from E1 of Opentrons 96 Tip Rack 300 µL on 2\n",
      "\tAspirating 40.0 uL from A1 of Opentrons 24 Well Aluminum Block with NEST 1.5 mL Snapcap on 5 at 1.0 speed\n",
      "\tDispensing 40.0 uL into E1 of Opentrons 96 Well Aluminum Block with Generic PCR Strip 200 µL on Temperature Module on 7 at 1.0 speed\n",
      "\tDropping tip into A1 of Opentrons Fixed Trash on 12\n",
      "Transferring 40.0 from A1 of Opentrons 24 Well Aluminum Block with NEST 1.5 mL Snapcap on 5 to F1 of Opentrons 96 Well Aluminum Block with Generic PCR Strip 200 µL on Temperature Module on 7\n",
      "\tPicking up tip from F1 of Opentrons 96 Tip Rack 300 µL on 2\n",
      "\tAspirating 40.0 uL from A1 of Opentrons 24 Well Aluminum Block with NEST 1.5 mL Snapcap on 5 at 1.0 speed\n",
      "\tDispensing 40.0 uL into F1 of Opentrons 96 Well Aluminum Block with Generic PCR Strip 200 µL on Temperature Module on 7 at 1.0 speed\n",
      "\tDropping tip into A1 of Opentrons Fixed Trash on 12\n",
      "Transferring 40.0 from A1 of Opentrons 24 Well Aluminum Block with NEST 1.5 mL Snapcap on 5 to G1 of Opentrons 96 Well Aluminum Block with Generic PCR Strip 200 µL on Temperature Module on 7\n",
      "\tPicking up tip from G1 of Opentrons 96 Tip Rack 300 µL on 2\n",
      "\tAspirating 40.0 uL from A1 of Opentrons 24 Well Aluminum Block with NEST 1.5 mL Snapcap on 5 at 1.0 speed\n",
      "\tDispensing 40.0 uL into G1 of Opentrons 96 Well Aluminum Block with Generic PCR Strip 200 µL on Temperature Module on 7 at 1.0 speed\n",
      "\tDropping tip into A1 of Opentrons Fixed Trash on 12\n",
      "Transferring 40.0 from A1 of Opentrons 24 Well Aluminum Block with NEST 1.5 mL Snapcap on 5 to H1 of Opentrons 96 Well Aluminum Block with Generic PCR Strip 200 µL on Temperature Module on 7\n",
      "\tPicking up tip from H1 of Opentrons 96 Tip Rack 300 µL on 2\n",
      "\tAspirating 40.0 uL from A1 of Opentrons 24 Well Aluminum Block with NEST 1.5 mL Snapcap on 5 at 1.0 speed\n",
      "\tDispensing 40.0 uL into H1 of Opentrons 96 Well Aluminum Block with Generic PCR Strip 200 µL on Temperature Module on 7 at 1.0 speed\n",
      "\tDropping tip into A1 of Opentrons Fixed Trash on 12\n",
      "Transferring 40.0 from A1 of Opentrons 24 Well Aluminum Block with NEST 1.5 mL Snapcap on 5 to A2 of Opentrons 96 Well Aluminum Block with Generic PCR Strip 200 µL on Temperature Module on 7\n",
      "\tPicking up tip from A2 of Opentrons 96 Tip Rack 300 µL on 2\n",
      "\tAspirating 40.0 uL from A1 of Opentrons 24 Well Aluminum Block with NEST 1.5 mL Snapcap on 5 at 1.0 speed\n",
      "\tDispensing 40.0 uL into A2 of Opentrons 96 Well Aluminum Block with Generic PCR Strip 200 µL on Temperature Module on 7 at 1.0 speed\n",
      "\tDropping tip into A1 of Opentrons Fixed Trash on 12\n",
      "Transferring 40.0 from A1 of Opentrons 24 Well Aluminum Block with NEST 1.5 mL Snapcap on 5 to B2 of Opentrons 96 Well Aluminum Block with Generic PCR Strip 200 µL on Temperature Module on 7\n",
      "\tPicking up tip from B2 of Opentrons 96 Tip Rack 300 µL on 2\n",
      "\tAspirating 40.0 uL from A1 of Opentrons 24 Well Aluminum Block with NEST 1.5 mL Snapcap on 5 at 1.0 speed\n",
      "\tDispensing 40.0 uL into B2 of Opentrons 96 Well Aluminum Block with Generic PCR Strip 200 µL on Temperature Module on 7 at 1.0 speed\n",
      "\tDropping tip into A1 of Opentrons Fixed Trash on 12\n",
      "Delaying for 30 minutes and 0 seconds\n",
      "Setting Temperature Module temperature to 4.0 °C (rounded off to nearest integer)\n"
     ]
    },
    {
     "name": "stderr",
     "output_type": "stream",
     "text": [
      "C:\\Users\\lajamu\\.opentrons\\deck_calibration.json not found. Loading defaults\n",
      "C:\\Users\\lajamu\\.opentrons\\robot_settings.json not found. Loading defaults\n",
      "C:\\Users\\lajamu\\.opentrons\\deck_calibration.json not found. Loading defaults\n",
      "C:\\Users\\lajamu\\.opentrons\\robot_settings.json not found. Loading defaults\n"
     ]
    }
   ],
   "source": [
    "!opentrons_simulate \"Step 2_Dilution and Digestion.py\""
   ]
  },
  {
   "cell_type": "code",
   "execution_count": null,
   "metadata": {},
   "outputs": [],
   "source": [
    "!opentrons_simulate \"Step 3_OEPCR.py\""
   ]
  },
  {
   "cell_type": "code",
   "execution_count": null,
   "metadata": {},
   "outputs": [],
   "source": [
    "!opentrons_simulate \"Step 4_Transformation.py\""
   ]
  },
  {
   "cell_type": "code",
   "execution_count": null,
   "metadata": {},
   "outputs": [],
   "source": [
    "!opentrons_simulate \"Step 5_Plating.py\"\""
   ]
  }
 ],
 "metadata": {
  "kernelspec": {
   "display_name": "Python 3",
   "language": "python",
   "name": "python3"
  },
  "language_info": {
   "codemirror_mode": {
    "name": "ipython",
    "version": 3
   },
   "file_extension": ".py",
   "mimetype": "text/x-python",
   "name": "python",
   "nbconvert_exporter": "python",
   "pygments_lexer": "ipython3",
   "version": "3.7.1"
  }
 },
 "nbformat": 4,
 "nbformat_minor": 4
}
